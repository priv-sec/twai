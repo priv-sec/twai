{
  "nbformat": 4,
  "nbformat_minor": 0,
  "metadata": {
    "kernelspec": {
      "name": "python377jvsc74a57bd000fe828615db63367d4538dea818edeccf45ed831be4f445733eae33643b3f7b",
      "display_name": "Python 3.7.7 64-bit"
    },
    "language_info": {
      "codemirror_mode": {
        "name": "ipython",
        "version": 3
      },
      "file_extension": ".py",
      "mimetype": "text/x-python",
      "name": "python",
      "nbconvert_exporter": "python",
      "pygments_lexer": "ipython3",
      "version": "3.7.7"
    },
    "colab": {
      "name": "exercise1.ipynb",
      "provenance": []
    }
  },
  "cells": [
    {
      "cell_type": "code",
      "metadata": {
        "cellView": "form",
        "id": "h4Qeg9dhRyLb"
      },
      "source": [
        "#@title Downloading mouse movement traces...<p>(Run this cell first!)\n",
        "import urllib.request\n",
        "urllib.request.urlretrieve(\"https://raw.githubusercontent.com/priv-sec/privacy/master/exercise1_data/known_traces.py\", \"known_traces.py\")\n",
        "urllib.request.urlretrieve(\"https://raw.githubusercontent.com/priv-sec/privacy/master/exercise1_data/unknown_traces.py\", \"unknown_traces.py\")"
      ],
      "execution_count": null,
      "outputs": []
    },
    {
      "cell_type": "code",
      "metadata": {
        "id": "46l4iPIYRyLf"
      },
      "source": [
        "# Natural Language Processing Toolkit\n",
        "# Source: https://www.nltk.org/\n",
        "import nltk\n",
        "\n",
        "# A list of mouse movement traces where every trace is a tuple of\n",
        "# the authors' index with the corresponding mouse positions.\n",
        "# type: List[Tuple[Int, List[String]]]\n",
        "from known_traces import known_traces\n",
        "\n",
        "# A list of mouse movement traces from a single person where every trace\n",
        "# is a list of mouse positions.\n",
        "# type: List[List[String]]\n",
        "from unknown_traces import unknown_traces\n",
        "\n",
        "# The skeleton of the Python script which was used to generate the mouse \n",
        "# movement traces can be found in the Moodle.\n",
        "\n",
        "# Make a dictionary out of the candidates' corpora\n",
        "movements_by_candidate_tokens = {\\\n",
        "    '1':[],\\\n",
        "    '2':[],\\\n",
        "    '3':[],\\\n",
        "    '4':[],\\\n",
        "    '5':[],\\\n",
        "    '6':[],\\\n",
        "    'unknown':[]\\\n",
        "}\n",
        "\n",
        "# For every author store the mouse movement traces in a single list\n",
        "for (candidate, subtrace) in known_traces:\n",
        "    movements_by_candidate_tokens[str(candidate)] += subtrace\n",
        "    \n",
        "# We also want to store the traces of the unknown author in a single list\n",
        "########\n",
        "# TODO #\n",
        "########\n",
        "\n",
        "# Who are the candidates we are analyzing?\n",
        "candidates = ['1','2','3','4','5','6']\n",
        "\n",
        "# Calculate chisquared for each of the two candidate candidates\n",
        "# Have fun!\n",
        "########\n",
        "# TODO #\n",
        "########\n"
      ],
      "execution_count": null,
      "outputs": []
    },
    {
      "cell_type": "code",
      "metadata": {
        "id": "_8dNTSGVx5W7"
      },
      "source": [
        ""
      ],
      "execution_count": null,
      "outputs": []
    }
  ]
}